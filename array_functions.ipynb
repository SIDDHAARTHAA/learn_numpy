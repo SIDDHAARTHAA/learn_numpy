{
 "cells": [
  {
   "cell_type": "markdown",
   "id": "9e4ae434-c736-4924-92eb-ff822f4a6d67",
   "metadata": {},
   "source": [
    "Initializing different types of arrays"
   ]
  },
  {
   "cell_type": "code",
   "execution_count": 3,
   "id": "4af0229e-d66c-4b5d-bb48-31725e466009",
   "metadata": {},
   "outputs": [],
   "source": [
    "import numpy as np"
   ]
  },
  {
   "cell_type": "code",
   "execution_count": 9,
   "id": "a3805932-8a60-49d8-8068-a001fed9240c",
   "metadata": {},
   "outputs": [],
   "source": [
    "a = np.zeros((2, 3))"
   ]
  },
  {
   "cell_type": "code",
   "execution_count": 11,
   "id": "14058642-75e6-4b10-9118-8ea9a556ff7e",
   "metadata": {},
   "outputs": [
    {
     "data": {
      "text/plain": [
       "array([[0., 0., 0.],\n",
       "       [0., 0., 0.]])"
      ]
     },
     "execution_count": 11,
     "metadata": {},
     "output_type": "execute_result"
    }
   ],
   "source": [
    "a"
   ]
  },
  {
   "cell_type": "code",
   "execution_count": 12,
   "id": "46a37b5c-b45e-45da-8d2c-0259e1e3ff86",
   "metadata": {},
   "outputs": [
    {
     "data": {
      "text/plain": [
       "dtype('float64')"
      ]
     },
     "execution_count": 12,
     "metadata": {},
     "output_type": "execute_result"
    }
   ],
   "source": [
    "a.dtype"
   ]
  },
  {
   "cell_type": "code",
   "execution_count": 13,
   "id": "0654fffd-20ac-4efb-aadf-5889bf5819d7",
   "metadata": {},
   "outputs": [
    {
     "data": {
      "text/plain": [
       "6"
      ]
     },
     "execution_count": 13,
     "metadata": {},
     "output_type": "execute_result"
    }
   ],
   "source": [
    "a.size"
   ]
  },
  {
   "cell_type": "code",
   "execution_count": 14,
   "id": "fb960f92-a3cd-4d6a-a492-05ec037c6e5b",
   "metadata": {},
   "outputs": [],
   "source": [
    "b = np.ones((2,2))"
   ]
  },
  {
   "cell_type": "code",
   "execution_count": 15,
   "id": "c2b2634f-f16e-41c2-9d15-7e7e20d0a6eb",
   "metadata": {},
   "outputs": [
    {
     "data": {
      "text/plain": [
       "array([[1., 1.],\n",
       "       [1., 1.]])"
      ]
     },
     "execution_count": 15,
     "metadata": {},
     "output_type": "execute_result"
    }
   ],
   "source": [
    "b"
   ]
  },
  {
   "cell_type": "code",
   "execution_count": 16,
   "id": "c86aabc3-183e-4bd9-a0cc-25a03422fbca",
   "metadata": {},
   "outputs": [],
   "source": [
    "c = np.full((2,2), 99)"
   ]
  },
  {
   "cell_type": "code",
   "execution_count": 17,
   "id": "429932c5-a221-436a-b6e9-35d89f3d7c7e",
   "metadata": {},
   "outputs": [
    {
     "data": {
      "text/plain": [
       "array([[99, 99],\n",
       "       [99, 99]])"
      ]
     },
     "execution_count": 17,
     "metadata": {},
     "output_type": "execute_result"
    }
   ],
   "source": [
    "c"
   ]
  },
  {
   "cell_type": "code",
   "execution_count": 19,
   "id": "8b0ef91f-d0b0-4ff0-8294-e02b1b7e8bfb",
   "metadata": {},
   "outputs": [
    {
     "data": {
      "text/plain": [
       "dtype('int64')"
      ]
     },
     "execution_count": 19,
     "metadata": {},
     "output_type": "execute_result"
    }
   ],
   "source": [
    "c.dtype"
   ]
  },
  {
   "cell_type": "code",
   "execution_count": 25,
   "id": "489e4e5a-0e32-4584-b18b-ed33cb8c0dc5",
   "metadata": {},
   "outputs": [
    {
     "data": {
      "text/plain": [
       "array([[0.95521111, 0.41462189, 0.8302223 ],\n",
       "       [0.93801963, 0.52471363, 0.59495221]])"
      ]
     },
     "execution_count": 25,
     "metadata": {},
     "output_type": "execute_result"
    }
   ],
   "source": [
    "# randome numbers\n",
    "d = np.random.rand(2,3)\n",
    "d"
   ]
  },
  {
   "cell_type": "code",
   "execution_count": 26,
   "id": "89da6376-bb4e-4e09-855e-da14d94c15f5",
   "metadata": {},
   "outputs": [
    {
     "data": {
      "text/plain": [
       "array([[0.50058338, 0.24506026, 0.09239529],\n",
       "       [0.92327474, 0.24149591, 0.56565568]])"
      ]
     },
     "execution_count": 26,
     "metadata": {},
     "output_type": "execute_result"
    }
   ],
   "source": [
    "d.shape\n",
    "e = np.random.random_sample(d.shape)\n",
    "e\n",
    "#it takes the shape of d"
   ]
  },
  {
   "cell_type": "code",
   "execution_count": 35,
   "id": "ed57ac15-e58d-44d8-8735-820e54f1ad9b",
   "metadata": {},
   "outputs": [
    {
     "data": {
      "text/plain": [
       "array([[0, 6, 8],\n",
       "       [3, 7, 2],\n",
       "       [9, 5, 4]])"
      ]
     },
     "execution_count": 35,
     "metadata": {},
     "output_type": "execute_result"
    }
   ],
   "source": [
    "#random integers\n",
    "np.random.randint(11,size=(3,3))\n",
    "#random integers between 0 - 10"
   ]
  },
  {
   "cell_type": "code",
   "execution_count": 47,
   "id": "500faa5c-156c-46b5-b8a5-3860eb317cc3",
   "metadata": {},
   "outputs": [
    {
     "data": {
      "text/plain": [
       "array([[  7,   9,   9],\n",
       "       [  5, -10, -10],\n",
       "       [ -9,   9,   2]])"
      ]
     },
     "execution_count": 47,
     "metadata": {},
     "output_type": "execute_result"
    }
   ],
   "source": [
    "np.random.randint(-10, 10, size=(3,3))\n",
    "#random integers between (-11, 11), or [-10, 10]"
   ]
  },
  {
   "cell_type": "code",
   "execution_count": 49,
   "id": "cff02530-a5fc-4722-ac06-1950c9d15002",
   "metadata": {},
   "outputs": [
    {
     "data": {
      "text/plain": [
       "array([[1, 0, 0, 0],\n",
       "       [0, 1, 0, 0],\n",
       "       [0, 0, 1, 0],\n",
       "       [0, 0, 0, 1]])"
      ]
     },
     "execution_count": 49,
     "metadata": {},
     "output_type": "execute_result"
    }
   ],
   "source": [
    "np.identity(4, dtype=int)\n",
    "#identity matrix"
   ]
  },
  {
   "cell_type": "code",
   "execution_count": 51,
   "id": "40835778-f689-42a6-b14d-a9eb14355cff",
   "metadata": {},
   "outputs": [
    {
     "data": {
      "text/plain": [
       "array([1, 1, 1, 2, 2, 2, 4, 4, 4])"
      ]
     },
     "execution_count": 51,
     "metadata": {},
     "output_type": "execute_result"
    }
   ],
   "source": [
    "f = np.array([1,2,4])\n",
    "g = np.repeat(f, 3)\n",
    "g\n",
    "#repeat array f 3 times"
   ]
  },
  {
   "cell_type": "code",
   "execution_count": 68,
   "id": "a277993f-0a2c-40fd-8cde-764e84cd7ba0",
   "metadata": {},
   "outputs": [
    {
     "data": {
      "text/plain": [
       "array([[1, 2, 3],\n",
       "       [1, 2, 3],\n",
       "       [1, 2, 3],\n",
       "       [1, 2, 3]])"
      ]
     },
     "execution_count": 68,
     "metadata": {},
     "output_type": "execute_result"
    }
   ],
   "source": [
    "#for 2d arrays\n",
    "h = np.array([[1,2,3]])\n",
    "i = np.repeat(h, 4, axis=0)\n",
    "i\n",
    "#axis = 0 => repeat by adding columns\n",
    "#axix = 1 => repeat by adding the same element to the existing row"
   ]
  },
  {
   "cell_type": "code",
   "execution_count": 84,
   "id": "c336f0a2-d084-4a1f-ae44-ce5ed00cfb33",
   "metadata": {},
   "outputs": [
    {
     "name": "stdout",
     "output_type": "stream",
     "text": [
      "[[1 1 1 1 1]\n",
      " [1 1 1 1 1]\n",
      " [1 1 1 1 1]\n",
      " [1 1 1 1 1]\n",
      " [1 1 1 1 1]]\n",
      "[[0 0 0]\n",
      " [0 9 0]\n",
      " [0 0 0]]\n",
      " \n",
      "[[1 1 1 1 1]\n",
      " [1 0 0 0 1]\n",
      " [1 0 9 0 1]\n",
      " [1 0 0 0 1]\n",
      " [1 1 1 1 1]]\n"
     ]
    }
   ],
   "source": [
    "#lets build a matrix with a pattern\n",
    "output = np.ones((5,5), dtype = int)\n",
    "print(output)\n",
    "z = np.zeros((3,3), dtype = int)\n",
    "z[1,1] = 9\n",
    "print(z)\n",
    "output[1:-1, 1:-1] = z\n",
    "print(\" \")\n",
    "print(output)"
   ]
  },
  {
   "cell_type": "code",
   "execution_count": 88,
   "id": "1ff99121-171e-43ae-abda-0201f0c6ae65",
   "metadata": {},
   "outputs": [
    {
     "data": {
      "text/plain": [
       "array([1, 5, 3])"
      ]
     },
     "execution_count": 88,
     "metadata": {},
     "output_type": "execute_result"
    }
   ],
   "source": [
    "a = np.array([1,2,3])\n",
    "b = a.copy()\n",
    "b[1] = 5\n",
    "b\n",
    "#copy a, chaning the values in b won't change the values in a"
   ]
  }
 ],
 "metadata": {
  "kernelspec": {
   "display_name": "Python 3 (ipykernel)",
   "language": "python",
   "name": "python3"
  },
  "language_info": {
   "codemirror_mode": {
    "name": "ipython",
    "version": 3
   },
   "file_extension": ".py",
   "mimetype": "text/x-python",
   "name": "python",
   "nbconvert_exporter": "python",
   "pygments_lexer": "ipython3",
   "version": "3.13.5"
  }
 },
 "nbformat": 4,
 "nbformat_minor": 5
}
