


import numpy as np


a = np.zeros((2, 3))


a


a.dtype


a.size


b = np.ones((2,2))


b


c = np.full((2,2), 99)


c


c.dtype


# randome numbers
d = np.random.rand(2,3)
d


d.shape
e = np.random.random_sample(d.shape)
e
#it takes the shape of d


#random integers
np.random.randint(11,size=(3,3))
#random integers between 0 - 10


np.random.randint(-10, 10, size=(3,3))
#random integers between (-11, 11), or [-10, 10]


np.identity(4, dtype=int)
#identity matrix


f = np.array([1,2,4])
g = np.repeat(f, 3)
g
#repeat array f 3 times


#for 2d arrays
h = np.array([[1,2,3]])
i = np.repeat(h, 4, axis=0)
i
#axis = 0 => repeat by adding columns
#axix = 1 => repeat by adding the same element to the existing row


#lets build a matrix with a pattern
output = np.ones((5,5))
print(output)



